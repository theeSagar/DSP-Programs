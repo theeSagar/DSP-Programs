{
  "nbformat": 4,
  "nbformat_minor": 0,
  "metadata": {
    "colab": {
      "name": "Computer Vission",
      "provenance": [],
      "collapsed_sections": [],
      "authorship_tag": "ABX9TyNSeNIr6pgS5ywEijr+3zqx",
      "include_colab_link": true
    },
    "kernelspec": {
      "name": "python3",
      "display_name": "Python 3"
    }
  },
  "cells": [
    {
      "cell_type": "markdown",
      "metadata": {
        "id": "view-in-github",
        "colab_type": "text"
      },
      "source": [
        "<a href=\"https://colab.research.google.com/github/theeSagar/DSP-Programs/blob/master/Computer_Vission.ipynb\" target=\"_parent\"><img src=\"https://colab.research.google.com/assets/colab-badge.svg\" alt=\"Open In Colab\"/></a>"
      ]
    },
    {
      "cell_type": "markdown",
      "metadata": {
        "id": "rqWQinRAOEIF",
        "colab_type": "text"
      },
      "source": [
        "# 2.Write a program to export negative of an image."
      ]
    },
    {
      "cell_type": "code",
      "metadata": {
        "id": "kWWtR1mHlYKR",
        "colab_type": "code",
        "colab": {}
      },
      "source": [
        "import cv2 \n",
        "import matplotlib.pyplot as plt \n",
        "   \n",
        "img_bgr = cv2.imread('scenary.jpg', 1) \n",
        "   \n",
        "br = ('b', 'g', 'r') \n",
        "  \n",
        "for i, col in enumerate(color): \n",
        "    histr = cv2.calcHist([img_bgr], [i], None, [256], [0, 256]) \n",
        "    plt.plot(histr, br = col) \n",
        "    plt.xlim([0, 256]) \n",
        "      \n",
        "plt.show()"
      ],
      "execution_count": 0,
      "outputs": []
    },
    {
      "cell_type": "markdown",
      "metadata": {
        "id": "khInPQ7CLklu",
        "colab_type": "text"
      },
      "source": [
        "# *1.Write a program that counts the no. of human faces in an image. *"
      ]
    },
    {
      "cell_type": "code",
      "metadata": {
        "id": "gGB8oL6T99Dw",
        "colab_type": "code",
        "colab": {}
      },
      "source": [
        "import cv2 \n",
        "har = cv2.CascadeClassifier('C:/Users/aa/Downloads/opencv-master/opencv-master/data/haarcascades/haarcascade_frontalface_default.xml')\n",
        "img = cv2.imread('JPEG image (.jpg)')\n",
        "\n",
        "faces = har.detectMultiScale(img, 1.1, 4)\n",
        "for (x, y, w, h) in faces:\n",
        "    cv2.rectangle(img, (x, y), (x + w, y + h), (255, 0, 0), 2)\n",
        "    if cv2.waitKey(1)==127:\n",
        "            break\n",
        "print(len(faces))\n",
        "\n",
        "cv2.imshow('img', img)\n",
        "cv2.waitKey(0)\n",
        "cv2.destroyAllWindows()"
      ],
      "execution_count": 0,
      "outputs": []
    },
    {
      "cell_type": "code",
      "metadata": {
        "id": "mX7C2OWGZM1f",
        "colab_type": "code",
        "colab": {}
      },
      "source": [
        "import cv2\n",
        "  \n",
        "actualImage = cv2.imread('C:/Users/aa/Downloads.jpg')\n",
        "grayImage = cv2.cvtColor(actualImage, cv2.COLOR_BGR2GRAY)\n",
        "  \n",
        "(thresh, blackAndWhiteImage) = cv2.threshold(grayImage, 127, 255, cv2.THRESH_BINARY)\n",
        " \n",
        "cv2.imshow('Black white image', blackAndWhiteImage)\n",
        "cv2.imshow('Original image',actualImage)\n",
        "cv2.imshow('Gray image', grayImage)\n",
        "  \n",
        "cv2.waitKey(0)\n",
        "cv2.destroyAllWindows()"
      ],
      "execution_count": 0,
      "outputs": []
    },
    {
      "cell_type": "markdown",
      "metadata": {
        "id": "OrKXJ5f4iWqp",
        "colab_type": "text"
      },
      "source": [
        "# Write a program that converts a colored image to:"
      ]
    },
    {
      "cell_type": "markdown",
      "metadata": {
        "id": "so_G-OOrie1K",
        "colab_type": "text"
      },
      "source": [
        "1.grayscale"
      ]
    },
    {
      "cell_type": "code",
      "metadata": {
        "id": "aK-oD8AHewfu",
        "colab_type": "code",
        "colab": {}
      },
      "source": [
        "import cv2\n",
        "  \n",
        "image = cv2.imread(':/Users/aa/Downloads.jpg')\n",
        "gray = cv2.cvtColor(image, cv2.COLOR_BGR2GRAY)\n",
        "  \n",
        "cv2.imshow('Original image',image)\n",
        "cv2.imshow('Gray image', gray)\n",
        "  \n",
        "cv2.waitKey(0)\n",
        "cv2.destroyAllWindows()"
      ],
      "execution_count": 0,
      "outputs": []
    },
    {
      "cell_type": "code",
      "metadata": {
        "id": "B9CC7q3fjGPn",
        "colab_type": "code",
        "colab": {}
      },
      "source": [
        "import cv2\n",
        "  \n",
        "actualImage = cv2.imread('C:/Users/aa/Downloads.jpg')\n",
        "grayImage = cv2.cvtColor(actualImage, cv2.COLOR_BGR2GRAY)\n",
        "  \n",
        "(thresh, blackAndWhiteImage) = cv2.threshold(grayImage, 127, 255, cv2.THRESH_BINARY)\n",
        " \n",
        "cv2.imshow('Black white image', blackAndWhiteImage)\n",
        "cv2.imshow('Original image',actualImage)\n",
        "cv2.imshow('Gray image', grayImage)\n",
        "  \n",
        "cv2.waitKey(0)\n",
        "cv2.destroyAllWindows()"
      ],
      "execution_count": 0,
      "outputs": []
    },
    {
      "cell_type": "markdown",
      "metadata": {
        "id": "kNyyYzs3inwX",
        "colab_type": "text"
      },
      "source": [
        "2."
      ]
    }
  ]
}